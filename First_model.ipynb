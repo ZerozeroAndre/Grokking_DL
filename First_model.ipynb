{
 "cells": [
  {
   "cell_type": "markdown",
   "metadata": {},
   "source": [
    "# Простая нейронная сеть, делающая прогноз"
   ]
  },
  {
   "cell_type": "markdown",
   "metadata": {},
   "source": [
    "#### Чистая сеть"
   ]
  },
  {
   "cell_type": "code",
   "execution_count": 2,
   "metadata": {},
   "outputs": [],
   "source": [
    "weight = 0.1\n",
    "def neural_network(input, weight):\n",
    "    prediction = input * weight\n",
    "    return prediction"
   ]
  },
  {
   "cell_type": "markdown",
   "metadata": {},
   "source": [
    "#### Передача одной точки данных"
   ]
  },
  {
   "cell_type": "code",
   "execution_count": 3,
   "metadata": {},
   "outputs": [
    {
     "name": "stdout",
     "output_type": "stream",
     "text": [
      "0.8500000000000001\n"
     ]
    }
   ],
   "source": [
    "number_of_toes = [8.5, 9.5, 10, 9]\n",
    "input = number_of_toes[0]\n",
    "pred = neural_network(input, weight)\n",
    "print(pred)"
   ]
  },
  {
   "cell_type": "markdown",
   "metadata": {},
   "source": [
    "#### Вычисление взвешенной суммы входов"
   ]
  },
  {
   "cell_type": "code",
   "execution_count": 4,
   "metadata": {},
   "outputs": [],
   "source": [
    "def w_sum(a, b):\n",
    "    assert(len(a) == len(b))\n",
    "    output = 0\n",
    "    for i in range(len(a)):\n",
    "        output += (a[i] * b[i])\n",
    "    \n",
    "    return output"
   ]
  },
  {
   "cell_type": "code",
   "execution_count": 5,
   "metadata": {},
   "outputs": [],
   "source": [
    "weights = [0.1, 0.2, 0]\n",
    "def neural_network(input, weights):\n",
    "    pred = w_sum(input, weights)\n",
    "    return pred"
   ]
  },
  {
   "cell_type": "markdown",
   "metadata": {},
   "source": [
    "#### Получение прогноза"
   ]
  },
  {
   "cell_type": "code",
   "execution_count": 6,
   "metadata": {},
   "outputs": [],
   "source": [
    "toes = [8.5, 9.5, 9.9, 9.0]\n",
    "wlrec = [0.65, 0.8, 0.8, 0.9]\n",
    "nfans = [1.2, 1.3, 0.5, 1.0]\n",
    "\n",
    "input = [toes[0], wlrec[0], nfans[0]]\n",
    "\n",
    "pred = neural_network(input, weights)"
   ]
  },
  {
   "cell_type": "code",
   "execution_count": 7,
   "metadata": {},
   "outputs": [
    {
     "name": "stdout",
     "output_type": "stream",
     "text": [
      "0.9800000000000001\n"
     ]
    }
   ],
   "source": [
    "print(pred)"
   ]
  },
  {
   "cell_type": "markdown",
   "metadata": {},
   "source": [
    "#### Умножает три входных значения на три весовых коэффициента и суммирует результаты."
   ]
  },
  {
   "cell_type": "markdown",
   "metadata": {},
   "source": [
    "### Векторная математика "
   ]
  },
  {
   "cell_type": "code",
   "execution_count": 8,
   "metadata": {},
   "outputs": [],
   "source": [
    "a = [0, 1, 0, 1]\n",
    "b = [1, 0, 1, 0]\n",
    "c = [0, 1, 1, 0]\n",
    "d = [.5, 0, .5, 0]\n",
    "e = [0, 1, -1, 0]"
   ]
  },
  {
   "cell_type": "code",
   "execution_count": 11,
   "metadata": {},
   "outputs": [
    {
     "name": "stdout",
     "output_type": "stream",
     "text": [
      "0\n",
      "1\n",
      "1.0\n",
      "2\n",
      "0\n",
      "0\n"
     ]
    }
   ],
   "source": [
    "print(w_sum(a,b))\n",
    "print(w_sum(b,c))\n",
    "print(w_sum(b,d))\n",
    "print(w_sum(c,c))\n",
    "print(w_sum(a,b))\n",
    "print(w_sum(c,e))"
   ]
  },
  {
   "cell_type": "markdown",
   "metadata": {},
   "source": [
    "## NumPy решение"
   ]
  },
  {
   "cell_type": "code",
   "execution_count": 21,
   "metadata": {},
   "outputs": [
    {
     "name": "stdout",
     "output_type": "stream",
     "text": [
      "0.9800000000000001\n"
     ]
    }
   ],
   "source": [
    "import numpy as np\n",
    "\n",
    "weights = np.array([0.1, 0.2, 0])\n",
    "def neural_network(input, weights):\n",
    "    pred = input.dot(weights)\n",
    "    return pred\n",
    "\n",
    "toes = np.array([8.5, 9.5, 9.9, 9.0])\n",
    "wlrec = np.array([0.65, 0.8, 0.8, 0.9])\n",
    "nfans = np.array([1.2, 1.3, 0.5, 1.0])\n",
    "\n",
    "input = np.array([toes[0], wlrec[0], nfans[0]])\n",
    "pred = neural_network(input, weights)\n",
    "print(pred)"
   ]
  },
  {
   "cell_type": "markdown",
   "metadata": {},
   "source": [
    "#### Функция dot - dot product (скалярное произведение)"
   ]
  },
  {
   "cell_type": "markdown",
   "metadata": {},
   "source": [
    "## Сеть с несколькими выходами"
   ]
  },
  {
   "cell_type": "markdown",
   "metadata": {},
   "source": [
    "#### Чистая сеть с несколькими выходами"
   ]
  },
  {
   "cell_type": "code",
   "execution_count": 1,
   "metadata": {},
   "outputs": [],
   "source": [
    "weights = [0.3, 0.2, 0.9]\n",
    "\n",
    "def neural_network(input, weights):\n",
    "    pred = ele_mul(input, weights)\n",
    "    return pred"
   ]
  },
  {
   "cell_type": "markdown",
   "metadata": {},
   "source": [
    "#### Передача одной точки данных"
   ]
  },
  {
   "cell_type": "code",
   "execution_count": 5,
   "metadata": {},
   "outputs": [
    {
     "name": "stdout",
     "output_type": "stream",
     "text": [
      "[0.195, 0.13, 0.5850000000000001]\n"
     ]
    }
   ],
   "source": [
    "wlrec = [0.65, 0.8, 0.8, 0.9]\n",
    "input = wlrec[0]\n",
    "pred = neural_network(input, weights)\n",
    "print(pred)"
   ]
  },
  {
   "cell_type": "markdown",
   "metadata": {},
   "source": [
    "#### Выполнение поэлементного умножения"
   ]
  },
  {
   "cell_type": "code",
   "execution_count": 3,
   "metadata": {},
   "outputs": [],
   "source": [
    "def ele_mul(number, vector):\n",
    "    output = [0,0,0]\n",
    "    assert(len(output) == len(vector))\n",
    "    for i in range(len(vector)):\n",
    "        output[i] = number * vector[i]\n",
    "    return output\n",
    "\n",
    "def neural_network(input, weights):\n",
    "    pred = ele_mul(input, weights)\n",
    "    return pred"
   ]
  },
  {
   "cell_type": "code",
   "execution_count": 6,
   "metadata": {},
   "outputs": [
    {
     "name": "stdout",
     "output_type": "stream",
     "text": [
      "[0.195, 0.13, 0.5850000000000001]\n"
     ]
    }
   ],
   "source": [
    "wlrec = [0.65, 0.8, 0.8, 0.9]\n",
    "input = wlrec[0]\n",
    "pred = neural_network(input, weights)\n",
    "print(pred)"
   ]
  },
  {
   "cell_type": "markdown",
   "metadata": {},
   "source": [
    "## Прогнозирование с несколькими входами и выходами"
   ]
  },
  {
   "cell_type": "markdown",
   "metadata": {},
   "source": [
    "#### 1. Чистая сеть с несколькими входами и выходами"
   ]
  },
  {
   "cell_type": "code",
   "execution_count": 7,
   "metadata": {},
   "outputs": [],
   "source": [
    "weights = [ [0.1, 0.1, -0.3],\n",
    "          [0.1, 0.2, 0.0],\n",
    "          [0.0, 1.3, 0.1]]\n",
    "\n",
    "def neural_network(input, weights):\n",
    "    pred = vect_mat_mul(input, weights)\n",
    "    return pred"
   ]
  },
  {
   "cell_type": "markdown",
   "metadata": {},
   "source": [
    "#### 2. Передача одной точки данных"
   ]
  },
  {
   "cell_type": "code",
   "execution_count": 11,
   "metadata": {},
   "outputs": [
    {
     "name": "stdout",
     "output_type": "stream",
     "text": [
      "[0.555, 0.9800000000000001, 0.9650000000000001]\n"
     ]
    }
   ],
   "source": [
    "toes = [8.5, 9.5, 9.9, 9.0]\n",
    "wlrec = [0.65, 0.8, 0.8, 0.9]\n",
    "nfans = [1.2, 1.3, 0.5, 1.0]\n",
    "\n",
    "input = [toes[0], wlrec[0], nfans[0]]\n",
    "pred = neural_network(input, weights)\n",
    "print(pred)"
   ]
  },
  {
   "cell_type": "markdown",
   "metadata": {},
   "source": [
    "#### 3. Для каждого выхода вычисляется взвешенная сумма входов"
   ]
  },
  {
   "cell_type": "code",
   "execution_count": 9,
   "metadata": {},
   "outputs": [],
   "source": [
    "def w_sum(a,b):\n",
    "    assert(len(a) == len(b))\n",
    "    output = 0\n",
    "    for i in range(len(a)):\n",
    "        output += (a[i] * b[i])\n",
    "    return output\n",
    "\n",
    "def vect_mat_mul(vect, matrix):\n",
    "    assert(len(vect) == len(matrix))\n",
    "    output = [0,0,0]\n",
    "    \n",
    "    for i in range(len(vect)):\n",
    "        output[i]=w_sum(vect, matrix[i])\n",
    "    return output\n",
    "\n",
    "def neural_network(input, weights):\n",
    "    pred = vect_mat_mul(input, weights)\n",
    "    return pred"
   ]
  },
  {
   "cell_type": "markdown",
   "metadata": {},
   "source": [
    "#### Векторно-матричные умножения.\n",
    "Находится скалярное произведение вектора и каждой строки матрицы"
   ]
  },
  {
   "cell_type": "markdown",
   "metadata": {},
   "source": [
    "## Прогнозирование на основе прогнозов"
   ]
  },
  {
   "cell_type": "markdown",
   "metadata": {},
   "source": [
    "#### Нейронные сети можно накладывать друг на друга"
   ]
  },
  {
   "cell_type": "markdown",
   "metadata": {},
   "source": [
    "#### 1. Чистая нейронная сеть с несколькими входами и выходами"
   ]
  },
  {
   "cell_type": "code",
   "execution_count": 12,
   "metadata": {},
   "outputs": [],
   "source": [
    "ih_wgt = [ [0.1, 0.2, -0.1],\n",
    "          [-0.1, 0.1, 0.9],\n",
    "          [0.1, 0.4, 0.1]]\n",
    "\n",
    "hp_wgt = [ [0.3, 1.1, -0.3],\n",
    "          [0.1, 0.2, 0.0],\n",
    "          [0.0, 1.3, 0.1]]\n",
    "\n",
    "weights = [ih_wgt, hp_wgt]\n",
    "\n",
    "def neural_network(input, weights):\n",
    "    hld = vect_mat_mul(input, weights[0])\n",
    "    pred = vect_mat_mul(hid, weights[1])\n",
    "    return pred"
   ]
  },
  {
   "cell_type": "markdown",
   "metadata": {},
   "source": [
    "Векторы весов хранятся/обрабатываются как векторы-столбцы"
   ]
  },
  {
   "cell_type": "markdown",
   "metadata": {},
   "source": [
    "#### 2. Прогнозирование в скрытом слое"
   ]
  },
  {
   "cell_type": "code",
   "execution_count": 19,
   "metadata": {},
   "outputs": [],
   "source": [
    "toes = [8.5, 9.5, 9.9, 9.0]\n",
    "wlrec = [0.65, 0.8, 0.8, 0.9]\n",
    "nfans = [1.2, 1.3, 0.5, 1.0]\n",
    "\n",
    "input = [toes[0], wlrec[0], nfans[0]]\n",
    "\n",
    "pred = neural_network(input, weights)\n",
    "\n",
    "def neural_network(input, weights):\n",
    "    hid = vect_mat_mul(input, weights[0])\n",
    "    pred = vect_mat_mul(hid, weights[1])\n",
    "    return pred"
   ]
  },
  {
   "cell_type": "markdown",
   "metadata": {},
   "source": [
    "#### 3. Прогнозирование в выходном слое (и вывод прогноза)"
   ]
  },
  {
   "cell_type": "code",
   "execution_count": 18,
   "metadata": {},
   "outputs": [
    {
     "name": "stdout",
     "output_type": "stream",
     "text": [
      "[0.21350000000000002, 0.14500000000000002, 0.5065]\n"
     ]
    }
   ],
   "source": [
    "def neural_network(input, weights):\n",
    "    hid = vect_mat_mul(input, weights[0])\n",
    "    pred = vect_mat_mul(hid, weights[1])\n",
    "    return pred\n",
    "\n",
    "toes = [8.5, 9.5, 9.9, 9.0]\n",
    "wlrec = [0.65, 0.8, 0.8, 0.9]\n",
    "nfans = [1.2, 1.3, 0.5, 1.0]\n",
    "\n",
    "input = [toes[0], wlrec[0], nfans[0]]\n",
    "\n",
    "pred = neural_network(input, weights)\n",
    "print(pred)"
   ]
  },
  {
   "cell_type": "markdown",
   "metadata": {},
   "source": [
    "## NumPy подход"
   ]
  },
  {
   "cell_type": "code",
   "execution_count": 22,
   "metadata": {},
   "outputs": [
    {
     "name": "stdout",
     "output_type": "stream",
     "text": [
      "[-0.1485  0.3475  1.9155]\n"
     ]
    }
   ],
   "source": [
    "hp_wgt = np.array([ [0.1, 0.2, -0.1],\n",
    "          [-0.1, 0.1, 0.9],\n",
    "          [0.1, 0.4, 0.1]])\n",
    "weights = [ih_wgt, hp_wgt]\n",
    "\n",
    "def neural_network(input, weights):\n",
    "    \n",
    "    hid = input.dot(weights[0])\n",
    "    pred = hid.dot(weights[1])\n",
    "    return pred\n",
    "\n",
    "toes = np.array([8.5, 9.5, 9.9, 9.0])\n",
    "wlrec = np.array([0.65, 0.8, 0.8, 0.9])\n",
    "nfans = np.array([1.2, 1.3, 0.5, 1.0])\n",
    "\n",
    "input = np.array([toes[0], wlrec[0], nfans[0]])\n",
    "\n",
    "pred = neural_network(input, weights)\n",
    "print(pred)"
   ]
  },
  {
   "cell_type": "code",
   "execution_count": 25,
   "metadata": {},
   "outputs": [
    {
     "name": "stdout",
     "output_type": "stream",
     "text": [
      "[0 1 2 3]\n",
      "[4 5 6 7]\n",
      "[[0 1 2 3]\n",
      " [4 5 6 7]]\n",
      "[[0. 0. 0. 0.]\n",
      " [0. 0. 0. 0.]]\n",
      "[[0.89574667 0.16490524 0.8501528  0.44640897 0.89127815]\n",
      " [0.1860802  0.45259381 0.53561729 0.81702759 0.61795509]]\n"
     ]
    }
   ],
   "source": [
    "import numpy as np\n",
    "\n",
    "a = np.array([0,1,2,3]) # вектор\n",
    "b = np.array([4,5,6,7]) # вектор\n",
    "c = np.array([[0,1,2,3], # матрица \n",
    "            [4,5,6,7]])\n",
    "\n",
    "d = np.zeros((2,4)) # матрица 2 х 4, заполненная нулями\n",
    "e = np.random.rand(2,5) # матрица 2 х 5, заполненная случайными числами от 0 до 1\n",
    "\n",
    "print(a)\n",
    "print(b)\n",
    "print(c)\n",
    "print(d)\n",
    "print(e)"
   ]
  },
  {
   "cell_type": "code",
   "execution_count": 31,
   "metadata": {},
   "outputs": [
    {
     "name": "stdout",
     "output_type": "stream",
     "text": [
      "[0.  0.1 0.2 0.3]\n",
      "[[0.  0.2 0.4 0.6]\n",
      " [0.8 1.  1.2 1.4]]\n",
      "[ 0  5 12 21]\n",
      "[0.  1.  2.4 4.2]\n",
      "[[ 0  1  4  9]\n",
      " [ 0  5 12 21]]\n"
     ]
    }
   ],
   "source": [
    "print(a * 0.1) # умножение каждого элемента вектора на 0.1\n",
    "print(c * 0.2) # каждый элемент матрицы умножается на 0.2\n",
    "print(a * b) # поэлементное умножение a на b\n",
    "print(a * b * 0.2) # поэлементное умножение векторов, затем каждый элемент умножается на 0.2\n",
    "print(a * c) # поэлементное умножение вектора a с каждой строкой матрицы с (имеют одинаковое количество столбцов)"
   ]
  },
  {
   "cell_type": "code",
   "execution_count": 33,
   "metadata": {},
   "outputs": [
    {
     "ename": "ValueError",
     "evalue": "operands could not be broadcast together with shapes (4,) (2,5) ",
     "output_type": "error",
     "traceback": [
      "\u001b[1;31m---------------------------------------------------------------------------\u001b[0m",
      "\u001b[1;31mValueError\u001b[0m                                Traceback (most recent call last)",
      "\u001b[1;32m<ipython-input-33-76f6dfe4e06b>\u001b[0m in \u001b[0;36m<module>\u001b[1;34m\u001b[0m\n\u001b[1;32m----> 1\u001b[1;33m \u001b[0mprint\u001b[0m\u001b[1;33m(\u001b[0m\u001b[0ma\u001b[0m \u001b[1;33m*\u001b[0m \u001b[0me\u001b[0m\u001b[1;33m)\u001b[0m\u001b[1;33m\u001b[0m\u001b[1;33m\u001b[0m\u001b[0m\n\u001b[0m",
      "\u001b[1;31mValueError\u001b[0m: operands could not be broadcast together with shapes (4,) (2,5) "
     ]
    }
   ],
   "source": [
    "print(a * e)"
   ]
  },
  {
   "cell_type": "code",
   "execution_count": 36,
   "metadata": {},
   "outputs": [
    {
     "name": "stdout",
     "output_type": "stream",
     "text": [
      "(1, 3)\n"
     ]
    }
   ],
   "source": [
    "a = np.zeros((1,4))\n",
    "b = np.zeros((4,3))\n",
    "c = a.dot(b)\n",
    "print(c.shape)"
   ]
  },
  {
   "cell_type": "code",
   "execution_count": 37,
   "metadata": {},
   "outputs": [
    {
     "name": "stdout",
     "output_type": "stream",
     "text": [
      "(2, 3)\n"
     ]
    }
   ],
   "source": [
    "a = np.zeros((2,4))\n",
    "b = np.zeros((4,3))\n",
    "c = a.dot(b)\n",
    "print(c.shape)"
   ]
  },
  {
   "cell_type": "code",
   "execution_count": 38,
   "metadata": {},
   "outputs": [
    {
     "name": "stdout",
     "output_type": "stream",
     "text": [
      "(2, 3)\n"
     ]
    }
   ],
   "source": [
    "a = np.zeros((2,1))\n",
    "b = np.zeros((1,3))\n",
    "c = a.dot(b)\n",
    "print(c.shape)"
   ]
  },
  {
   "cell_type": "code",
   "execution_count": null,
   "metadata": {},
   "outputs": [],
   "source": []
  }
 ],
 "metadata": {
  "kernelspec": {
   "display_name": "Python 3",
   "language": "python",
   "name": "python3"
  },
  "language_info": {
   "codemirror_mode": {
    "name": "ipython",
    "version": 3
   },
   "file_extension": ".py",
   "mimetype": "text/x-python",
   "name": "python",
   "nbconvert_exporter": "python",
   "pygments_lexer": "ipython3",
   "version": "3.7.4"
  }
 },
 "nbformat": 4,
 "nbformat_minor": 2
}
